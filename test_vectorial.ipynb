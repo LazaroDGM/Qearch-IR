{
 "cells": [
  {
   "cell_type": "code",
   "execution_count": 15,
   "metadata": {},
   "outputs": [],
   "source": [
    "from sriApp.modelos.vectorial_model import VectorialModel\n",
    "from sriApp.modelos.vectorial_model import DIR\n",
    "from ir_datasets import load\n",
    "from sriApp.modelos.SortedValueDataSet import normalize\n",
    "import matplotlib.pyplot as plt\n",
    "import statistics as stat\n",
    "import time\n",
    "import numpy as np"
   ]
  },
  {
   "cell_type": "code",
   "execution_count": 16,
   "metadata": {},
   "outputs": [],
   "source": [
    "datasets = {\n",
    "    \"beir/arguana\": {'count': 8674},\n",
    "    #\"beir/dbpedia-entity\": {'count': 4635922},\n",
    "    \"beir/fiqa\": {'count': 57638},\n",
    "    \"beir/cqadupstack/android\": {'count': 22998},\n",
    "    \"beir/cqadupstack/english\": {'count': 40221},\n",
    "    \"beir/cqadupstack/gaming\": {'count': 45301},\n",
    "    \"beir/cqadupstack/gis\": {'count': 37637},\n",
    "    \"beir/cqadupstack/mathematica\": {'count': 16705},\n",
    "    \"beir/cqadupstack/physics\": {'count': 38316},\n",
    "    \"beir/cqadupstack/programmers\": {'count': 32176},\n",
    "    \"beir/cqadupstack/stats\": {'count': 42269},\n",
    "    \"beir/cqadupstack/tex\": {'count': 68184},\n",
    "    \"beir/cqadupstack/unix\": {'count': 47382},\n",
    "    \"beir/cqadupstack/webmasters\": {'count': 17405},\n",
    "    \"beir/cqadupstack/wordpress\": {'count': 48605},\n",
    "    \"cranfield\": {'count': 1400}\n",
    "}"
   ]
  },
  {
   "cell_type": "code",
   "execution_count": 17,
   "metadata": {},
   "outputs": [
    {
     "name": "stdout",
     "output_type": "stream",
     "text": [
      "CARGADO Modelo Vectorial\n"
     ]
    }
   ],
   "source": [
    "dataset_name = \"cranfield\"\n",
    "vectorial_model = VectorialModel(dataset_name)"
   ]
  },
  {
   "cell_type": "code",
   "execution_count": 18,
   "metadata": {},
   "outputs": [],
   "source": [
    "def normalize_bool_querie(querie):\n",
    "    tokens = list(normalize(querie))\n",
    "    if len(tokens) == 0:\n",
    "        return 'i', 'i'\n",
    "    querie_and = tokens[0]\n",
    "    querie_or = tokens[0]\n",
    "    for token in tokens[1:]:\n",
    "        querie_and += ' & ' + token\n",
    "        querie_or += ' | ' + token\n",
    "    return querie_and, querie_or"
   ]
  },
  {
   "cell_type": "code",
   "execution_count": 19,
   "metadata": {},
   "outputs": [],
   "source": [
    "dataset = load(dataset_name)\n",
    "queries=[]\n",
    "index=1\n",
    "for querie in dataset.queries_iter():\n",
    "    queries.append((querie.text, index))\n",
    "    index+=1"
   ]
  },
  {
   "cell_type": "code",
   "execution_count": 20,
   "metadata": {},
   "outputs": [],
   "source": [
    "responses = {}\n",
    "\n",
    "times = np.zeros(len(queries))\n",
    "index = 0\n",
    "for q in queries:\n",
    "    start = time.time()\n",
    "    responses[q[1]] = list(vectorial_model.SearchResuts(q[0]))    \n",
    "    end = time.time()\n",
    "    times[index] = end-start\n",
    "    index += 0\n"
   ]
  },
  {
   "cell_type": "code",
   "execution_count": 21,
   "metadata": {},
   "outputs": [
    {
     "name": "stdout",
     "output_type": "stream",
     "text": [
      "0.0010336155361599392 0.01546974082382858\n"
     ]
    },
    {
     "data": {
      "image/png": "[encoded data removed]",
      "text/plain": [
       "<Figure size 640x480 with 1 Axes>"
      ]
     },
     "metadata": {},
     "output_type": "display_data"
    }
   ],
   "source": [
    "plt.hist(times)\n",
    "print(times.mean(), times.std())"
   ]
  },
  {
   "cell_type": "code",
   "execution_count": 22,
   "metadata": {},
   "outputs": [],
   "source": [
    "new_qrels = {}\n",
    "for qrel in dataset.qrels_iter():\n",
    "    if qrel.relevance > 0:\n",
    "        s = new_qrels.get(int(qrel.query_id), set())\n",
    "        s.add(int(qrel.doc_id))\n",
    "        new_qrels[int(qrel.query_id)] = s"
   ]
  },
  {
   "cell_type": "code",
   "execution_count": 23,
   "metadata": {},
   "outputs": [],
   "source": [
    "from medidas import *"
   ]
  },
  {
   "cell_type": "code",
   "execution_count": 24,
   "metadata": {},
   "outputs": [],
   "source": [
    "responses_0 = responses_umbral(responses, 0.0)\n",
    "responses_1 = responses_umbral(responses, 0.1)\n",
    "responses_2 = responses_umbral(responses, 0.2)\n",
    "responses_3 = responses_umbral(responses, 0.3)\n",
    "responses_4 = responses_umbral(responses, 0.4)\n",
    "responses_r25 = responses_r(responses, 25)\n",
    "responses_r50 = responses_r(responses, 50)\n",
    "responses_r75 = responses_r(responses, 75)\n",
    "responses_r100 = responses_r(responses, 100)"
   ]
  },
  {
   "cell_type": "code",
   "execution_count": 25,
   "metadata": {},
   "outputs": [],
   "source": [
    "m_0    = get_medidas(responses_0, new_qrels)\n",
    "m_1    = get_medidas(responses_1, new_qrels)\n",
    "m_2    = get_medidas(responses_2, new_qrels)\n",
    "m_3    = get_medidas(responses_3, new_qrels)\n",
    "m_4    = get_medidas(responses_4, new_qrels)\n",
    "m_r25  = get_medidas(responses_r25, new_qrels)\n",
    "m_r50  = get_medidas(responses_r50, new_qrels)\n",
    "m_r75  = get_medidas(responses_r75, new_qrels)\n",
    "m_r100 = get_medidas(responses_r100, new_qrels)"
   ]
  },
  {
   "cell_type": "code",
   "execution_count": 26,
   "metadata": {},
   "outputs": [],
   "source": [
    "r_0, a_0 = get_recall_accuracy(m_0)\n",
    "r_1, a_1 = get_recall_accuracy(m_1)\n",
    "r_2, a_2 = get_recall_accuracy(m_2)\n",
    "r_3, a_3 = get_recall_accuracy(m_3)\n",
    "r_4, a_4 = get_recall_accuracy(m_4)\n",
    "r_25, a_25 = get_recall_accuracy(m_r25)\n",
    "r_50, a_50 = get_recall_accuracy(m_r50)\n",
    "r_75, a_75 = get_recall_accuracy(m_r75)\n",
    "r_100, a_100 = get_recall_accuracy(m_r100)"
   ]
  },
  {
   "cell_type": "code",
   "execution_count": 1,
   "metadata": {},
   "outputs": [
    {
     "ename": "NameError",
     "evalue": "name 'plot_recall_accuracy' is not defined",
     "output_type": "error",
     "traceback": [
      "\u001b[0;31m---------------------------------------------------------------------------\u001b[0m",
      "\u001b[0;31mNameError\u001b[0m                                 Traceback (most recent call last)",
      "\u001b[0;32m/tmp/ipykernel_3509/1764370248.py\u001b[0m in \u001b[0;36m<module>\u001b[0;34m\u001b[0m\n\u001b[0;32m----> 1\u001b[0;31m \u001b[0mplot_recall_accuracy\u001b[0m\u001b[0;34m(\u001b[0m\u001b[0mr_0\u001b[0m\u001b[0;34m,\u001b[0m\u001b[0ma_0\u001b[0m\u001b[0;34m)\u001b[0m\u001b[0;34m\u001b[0m\u001b[0;34m\u001b[0m\u001b[0m\n\u001b[0m",
      "\u001b[0;31mNameError\u001b[0m: name 'plot_recall_accuracy' is not defined"
     ]
    }
   ],
   "source": [
    "plot_recall_accuracy(r_3,a_3)"
   ]
  },
  {
   "cell_type": "code",
   "execution_count": null,
   "metadata": {},
   "outputs": [],
   "source": [
    "plot_recall_accuracy(r_100,a_100)"
   ]
  },
  {
   "cell_type": "code",
   "execution_count": 28,
   "metadata": {},
   "outputs": [
    {
     "name": "stdout",
     "output_type": "stream",
     "text": [
      "0.8259306009894245 0.007496246009807474\n",
      "0.7897154958331429 0.007976386263354819\n",
      "0.6398951176102878 0.01104627898369476\n",
      "0.4479191240762448 0.020204538635184437\n",
      "0.2703231181443256 0.038556394317728594\n",
      "0.20025520475778474 0.054044444444444444\n",
      "0.26644472565808996 0.035644444444444444\n",
      "0.31573073957155484 0.028444444444444446\n",
      "0.350083199384799 0.023422222222222223\n"
     ]
    },
    {
     "data": {
      "image/png": "[encoded data removed]",
      "text/plain": [
       "<Figure size 640x480 with 1 Axes>"
      ]
     },
     "metadata": {},
     "output_type": "display_data"
    }
   ],
   "source": [
    "medidas = [\n",
    "    (r_0, a_0),\n",
    "    (r_1, a_1),\n",
    "    (r_2, a_2),\n",
    "    (r_3, a_3),\n",
    "    (r_4, a_4),\n",
    "    (r_25, a_25),\n",
    "    (r_50, a_50),\n",
    "    (r_75, a_75),\n",
    "    (r_100, a_100),\n",
    "]\n",
    "names= ['0.0','0.1','0.2','0.3','0.4','25','50','75','100']\n",
    "plot_means(medidas, names)"
   ]
  }
 ],
 "metadata": {
  "kernelspec": {
   "display_name": "base",
   "language": "python",
   "name": "python3"
  },
  "language_info": {
   "codemirror_mode": {
    "name": "ipython",
    "version": 3
   },
   "file_extension": ".py",
   "mimetype": "text/x-python",
   "name": "python",
   "nbconvert_exporter": "python",
   "pygments_lexer": "ipython3",
   "version": "3.9.13"
  },
  "orig_nbformat": 4,
  "vscode": {
   "interpreter": {
    "hash": "288c8a09feb0156c3b910e82c10291a04dbef4d926da44d00475bdfebeb1a22e"
   }
  }
 },
 "nbformat": 4,
 "nbformat_minor": 2
}
